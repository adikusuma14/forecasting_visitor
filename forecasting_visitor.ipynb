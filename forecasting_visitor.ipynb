{
  "nbformat": 4,
  "nbformat_minor": 0,
  "metadata": {
    "colab": {
      "name": "forecasting_visitor.ipynb",
      "provenance": [],
      "collapsed_sections": [],
      "toc_visible": true,
      "authorship_tag": "ABX9TyNx4p1hooSzHfrxMHPIwgIN",
      "include_colab_link": true
    },
    "kernelspec": {
      "name": "python3",
      "display_name": "Python 3"
    },
    "language_info": {
      "name": "python"
    }
  },
  "cells": [
    {
      "cell_type": "markdown",
      "metadata": {
        "id": "view-in-github",
        "colab_type": "text"
      },
      "source": [
        "<a href=\"https://colab.research.google.com/github/adikusuma14/forecasting_visitor/blob/main/forecasting_visitor.ipynb\" target=\"_parent\"><img src=\"https://colab.research.google.com/assets/colab-badge.svg\" alt=\"Open In Colab\"/></a>"
      ]
    },
    {
      "cell_type": "markdown",
      "source": [
        "#1. Import Nescesarry Library"
      ],
      "metadata": {
        "id": "p6_tZqILpmBc"
      }
    },
    {
      "cell_type": "code",
      "execution_count": null,
      "metadata": {
        "colab": {
          "base_uri": "https://localhost:8080/"
        },
        "id": "tM-8F17ik6u9",
        "outputId": "557da138-738f-4725-eccd-61b74af2f09e"
      },
      "outputs": [
        {
          "output_type": "stream",
          "name": "stdout",
          "text": [
            "Drive already mounted at /content/drive; to attempt to forcibly remount, call drive.mount(\"/content/drive\", force_remount=True).\n"
          ]
        }
      ],
      "source": [
        "from google.colab import drive\n",
        "drive.mount('/content/drive')\n",
        "import os\n",
        "import numpy as np\n",
        "import pandas as pd\n",
        "import matplotlib.pyplot as plt\n",
        "import seaborn as sns"
      ]
    },
    {
      "cell_type": "markdown",
      "source": [
        "#2. Read Data Source"
      ],
      "metadata": {
        "id": "W0wSarnCpq1Z"
      }
    },
    {
      "cell_type": "code",
      "source": [
        "df = pd.read_csv('/content/drive/MyDrive/datasets/forecasting_visitor.csv')\n",
        "df.sample(10)\n",
        "df_index = df.set_index('date')"
      ],
      "metadata": {
        "id": "jRJ4Q9eqmHcm"
      },
      "execution_count": null,
      "outputs": []
    },
    {
      "cell_type": "code",
      "source": [
        "df_index.info()"
      ],
      "metadata": {
        "colab": {
          "base_uri": "https://localhost:8080/"
        },
        "id": "7GyeHKRxmnoA",
        "outputId": "87c55208-f280-40be-836e-6059d98721a4"
      },
      "execution_count": null,
      "outputs": [
        {
          "output_type": "stream",
          "name": "stdout",
          "text": [
            "<class 'pandas.core.frame.DataFrame'>\n",
            "Index: 6351 entries, 2021-07-07 to 2022-01-27\n",
            "Data columns (total 4 columns):\n",
            " #   Column      Non-Null Count  Dtype\n",
            "---  ------      --------------  -----\n",
            " 0   service_id  6351 non-null   int64\n",
            " 1   hour        6351 non-null   int64\n",
            " 2   cluster_id  6351 non-null   int64\n",
            " 3   visitor     6351 non-null   int64\n",
            "dtypes: int64(4)\n",
            "memory usage: 248.1+ KB\n"
          ]
        }
      ]
    },
    {
      "cell_type": "code",
      "source": [
        "# df_index['year'] = pd.DatetimeIndex(df['date']).year\n",
        "# df_index['month'] = pd.DatetimeIndex(df['date']).month\n",
        "# df_index['date'] = df['date'].astype('datetime64[ns]')\n",
        "print(df_index.sample(10))\n",
        "print(df_index.info())\n",
        "print(df_index.shape)"
      ],
      "metadata": {
        "colab": {
          "base_uri": "https://localhost:8080/"
        },
        "id": "ZFTqjE2Fp6cg",
        "outputId": "87c2a20e-d7cd-4f3c-da5d-bd2c7226a629"
      },
      "execution_count": null,
      "outputs": [
        {
          "output_type": "stream",
          "name": "stdout",
          "text": [
            "            service_id  hour  cluster_id  visitor\n",
            "date                                             \n",
            "2022-01-07         157    10          59        1\n",
            "2021-10-13         179    13         219        1\n",
            "2022-06-10         156    11          53        1\n",
            "2021-10-29         158     8          64        5\n",
            "2021-12-09         158    13          69        1\n",
            "2021-12-01         156     8          50        3\n",
            "2022-04-22         178    11         223        1\n",
            "2021-10-28         179     9         214        5\n",
            "2022-05-24         174    10         178        1\n",
            "2022-04-28         157    11          60        1\n",
            "<class 'pandas.core.frame.DataFrame'>\n",
            "Index: 6351 entries, 2021-07-07 to 2022-01-27\n",
            "Data columns (total 4 columns):\n",
            " #   Column      Non-Null Count  Dtype\n",
            "---  ------      --------------  -----\n",
            " 0   service_id  6351 non-null   int64\n",
            " 1   hour        6351 non-null   int64\n",
            " 2   cluster_id  6351 non-null   int64\n",
            " 3   visitor     6351 non-null   int64\n",
            "dtypes: int64(4)\n",
            "memory usage: 506.1+ KB\n",
            "None\n",
            "(6351, 4)\n"
          ]
        }
      ]
    },
    {
      "cell_type": "code",
      "source": [
        "df_index.corr()"
      ],
      "metadata": {
        "colab": {
          "base_uri": "https://localhost:8080/",
          "height": 173
        },
        "id": "Z9AsfGawxIZn",
        "outputId": "1d58d726-9882-408c-f10c-eea31fdaa815"
      },
      "execution_count": 96,
      "outputs": [
        {
          "output_type": "execute_result",
          "data": {
            "text/plain": [
              "            service_id      hour  cluster_id   visitor\n",
              "service_id    1.000000 -0.021211   -0.045468  0.011737\n",
              "hour         -0.021211  1.000000    0.043969 -0.113479\n",
              "cluster_id   -0.045468  0.043969    1.000000 -0.445981\n",
              "visitor       0.011737 -0.113479   -0.445981  1.000000"
            ],
            "text/html": [
              "\n",
              "  <div id=\"df-47c5ad29-0eb5-49da-ac4d-a352b414cec2\">\n",
              "    <div class=\"colab-df-container\">\n",
              "      <div>\n",
              "<style scoped>\n",
              "    .dataframe tbody tr th:only-of-type {\n",
              "        vertical-align: middle;\n",
              "    }\n",
              "\n",
              "    .dataframe tbody tr th {\n",
              "        vertical-align: top;\n",
              "    }\n",
              "\n",
              "    .dataframe thead th {\n",
              "        text-align: right;\n",
              "    }\n",
              "</style>\n",
              "<table border=\"1\" class=\"dataframe\">\n",
              "  <thead>\n",
              "    <tr style=\"text-align: right;\">\n",
              "      <th></th>\n",
              "      <th>service_id</th>\n",
              "      <th>hour</th>\n",
              "      <th>cluster_id</th>\n",
              "      <th>visitor</th>\n",
              "    </tr>\n",
              "  </thead>\n",
              "  <tbody>\n",
              "    <tr>\n",
              "      <th>service_id</th>\n",
              "      <td>1.000000</td>\n",
              "      <td>-0.021211</td>\n",
              "      <td>-0.045468</td>\n",
              "      <td>0.011737</td>\n",
              "    </tr>\n",
              "    <tr>\n",
              "      <th>hour</th>\n",
              "      <td>-0.021211</td>\n",
              "      <td>1.000000</td>\n",
              "      <td>0.043969</td>\n",
              "      <td>-0.113479</td>\n",
              "    </tr>\n",
              "    <tr>\n",
              "      <th>cluster_id</th>\n",
              "      <td>-0.045468</td>\n",
              "      <td>0.043969</td>\n",
              "      <td>1.000000</td>\n",
              "      <td>-0.445981</td>\n",
              "    </tr>\n",
              "    <tr>\n",
              "      <th>visitor</th>\n",
              "      <td>0.011737</td>\n",
              "      <td>-0.113479</td>\n",
              "      <td>-0.445981</td>\n",
              "      <td>1.000000</td>\n",
              "    </tr>\n",
              "  </tbody>\n",
              "</table>\n",
              "</div>\n",
              "      <button class=\"colab-df-convert\" onclick=\"convertToInteractive('df-47c5ad29-0eb5-49da-ac4d-a352b414cec2')\"\n",
              "              title=\"Convert this dataframe to an interactive table.\"\n",
              "              style=\"display:none;\">\n",
              "        \n",
              "  <svg xmlns=\"http://www.w3.org/2000/svg\" height=\"24px\"viewBox=\"0 0 24 24\"\n",
              "       width=\"24px\">\n",
              "    <path d=\"M0 0h24v24H0V0z\" fill=\"none\"/>\n",
              "    <path d=\"M18.56 5.44l.94 2.06.94-2.06 2.06-.94-2.06-.94-.94-2.06-.94 2.06-2.06.94zm-11 1L8.5 8.5l.94-2.06 2.06-.94-2.06-.94L8.5 2.5l-.94 2.06-2.06.94zm10 10l.94 2.06.94-2.06 2.06-.94-2.06-.94-.94-2.06-.94 2.06-2.06.94z\"/><path d=\"M17.41 7.96l-1.37-1.37c-.4-.4-.92-.59-1.43-.59-.52 0-1.04.2-1.43.59L10.3 9.45l-7.72 7.72c-.78.78-.78 2.05 0 2.83L4 21.41c.39.39.9.59 1.41.59.51 0 1.02-.2 1.41-.59l7.78-7.78 2.81-2.81c.8-.78.8-2.07 0-2.86zM5.41 20L4 18.59l7.72-7.72 1.47 1.35L5.41 20z\"/>\n",
              "  </svg>\n",
              "      </button>\n",
              "      \n",
              "  <style>\n",
              "    .colab-df-container {\n",
              "      display:flex;\n",
              "      flex-wrap:wrap;\n",
              "      gap: 12px;\n",
              "    }\n",
              "\n",
              "    .colab-df-convert {\n",
              "      background-color: #E8F0FE;\n",
              "      border: none;\n",
              "      border-radius: 50%;\n",
              "      cursor: pointer;\n",
              "      display: none;\n",
              "      fill: #1967D2;\n",
              "      height: 32px;\n",
              "      padding: 0 0 0 0;\n",
              "      width: 32px;\n",
              "    }\n",
              "\n",
              "    .colab-df-convert:hover {\n",
              "      background-color: #E2EBFA;\n",
              "      box-shadow: 0px 1px 2px rgba(60, 64, 67, 0.3), 0px 1px 3px 1px rgba(60, 64, 67, 0.15);\n",
              "      fill: #174EA6;\n",
              "    }\n",
              "\n",
              "    [theme=dark] .colab-df-convert {\n",
              "      background-color: #3B4455;\n",
              "      fill: #D2E3FC;\n",
              "    }\n",
              "\n",
              "    [theme=dark] .colab-df-convert:hover {\n",
              "      background-color: #434B5C;\n",
              "      box-shadow: 0px 1px 3px 1px rgba(0, 0, 0, 0.15);\n",
              "      filter: drop-shadow(0px 1px 2px rgba(0, 0, 0, 0.3));\n",
              "      fill: #FFFFFF;\n",
              "    }\n",
              "  </style>\n",
              "\n",
              "      <script>\n",
              "        const buttonEl =\n",
              "          document.querySelector('#df-47c5ad29-0eb5-49da-ac4d-a352b414cec2 button.colab-df-convert');\n",
              "        buttonEl.style.display =\n",
              "          google.colab.kernel.accessAllowed ? 'block' : 'none';\n",
              "\n",
              "        async function convertToInteractive(key) {\n",
              "          const element = document.querySelector('#df-47c5ad29-0eb5-49da-ac4d-a352b414cec2');\n",
              "          const dataTable =\n",
              "            await google.colab.kernel.invokeFunction('convertToInteractive',\n",
              "                                                     [key], {});\n",
              "          if (!dataTable) return;\n",
              "\n",
              "          const docLinkHtml = 'Like what you see? Visit the ' +\n",
              "            '<a target=\"_blank\" href=https://colab.research.google.com/notebooks/data_table.ipynb>data table notebook</a>'\n",
              "            + ' to learn more about interactive tables.';\n",
              "          element.innerHTML = '';\n",
              "          dataTable['output_type'] = 'display_data';\n",
              "          await google.colab.output.renderOutput(dataTable, element);\n",
              "          const docLink = document.createElement('div');\n",
              "          docLink.innerHTML = docLinkHtml;\n",
              "          element.appendChild(docLink);\n",
              "        }\n",
              "      </script>\n",
              "    </div>\n",
              "  </div>\n",
              "  "
            ]
          },
          "metadata": {},
          "execution_count": 96
        }
      ]
    }
  ]
}